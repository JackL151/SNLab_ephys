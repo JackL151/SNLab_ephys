{
 "cells": [
  {
   "cell_type": "markdown",
   "metadata": {},
   "source": [
    "## This notebook compiles object-location scoring output from behavior_coding.py. \n",
    "*Data standard assumptions:*\n",
    "* video name in *_ol_scoring.csv matches vidname in metadata csv. \n",
    "* *_ol_scoring.csv contains headers 'file','frame','action'\n"
   ]
  },
  {
   "cell_type": "code",
   "execution_count": 1,
   "metadata": {},
   "outputs": [],
   "source": [
    "%reload_ext autoreload\n",
    "%autoreload 2"
   ]
  },
  {
   "cell_type": "code",
   "execution_count": 2,
   "metadata": {},
   "outputs": [],
   "source": [
    "import pandas as pd\n",
    "import numpy as np\n",
    "import matplotlib.pyplot as plt\n",
    "import glob\n",
    "import os\n",
    "import sys\n",
    "\n",
    "sys.path.append('C:/Users/schafferlab/github/SNLab_ephys/behavior/')\n",
    "\n",
    "import process_behavior_coding as bc"
   ]
  },
  {
   "cell_type": "markdown",
   "metadata": {},
   "source": [
    "### Set paths"
   ]
  },
  {
   "cell_type": "code",
   "execution_count": 6,
   "metadata": {},
   "outputs": [],
   "source": [
    "data_dir = 'Y:/laura_berkowitz/app_ps1_ephys/data'\n",
    "meta_path = 'Y:/laura_berkowitz/app_ps1_ephys/behavior/object_location/object_location_metadata.csv'\n",
    "save_path = 'Y:/laura_berkowitz/app_ps1_ephys/behavior/object_location/'"
   ]
  },
  {
   "cell_type": "markdown",
   "metadata": {},
   "source": [
    "### Import meta data and compile object-location coding into dataframe"
   ]
  },
  {
   "cell_type": "code",
   "execution_count": 4,
   "metadata": {},
   "outputs": [
    {
     "name": "stdout",
     "output_type": "stream",
     "text": [
      "Loading file: Y:/laura_berkowitz/app_ps1_ephys/data\\hpc04\\hpc04_day06_220217_085558\\hpc04_day06_220217_085558_ol_scoring.csv\n",
      "Loading file: Y:/laura_berkowitz/app_ps1_ephys/data\\hpc04\\hpc04_day09_220221_094101\\hpc04_day09_220221_094101_ol_scoring.csv\n",
      "Loading file: Y:/laura_berkowitz/app_ps1_ephys/data\\hpc04\\hpc04_day12_220225_115348\\hpc04_day12_220225_115348_ol_scoring.csv\n",
      "Loading file: Y:/laura_berkowitz/app_ps1_ephys/data\\hpc04\\hpc04_day15_220301_094823\\hpc04_day15_220301_094823_ol_scoring.csv\n",
      "Loading file: Y:/laura_berkowitz/app_ps1_ephys/data\\hpc05\\hpc05_day10_220316_095114\\hpc05_day10_220316_095114_ol_scoring.csv\n",
      "Loading file: Y:/laura_berkowitz/app_ps1_ephys/data\\hpc05\\hpc05_day14_220320_102335\\hpc05_day14_220320_102335_ol_scoring.csv\n",
      "Loading file: Y:/laura_berkowitz/app_ps1_ephys/data\\hpc05\\hpc05_day17_220324_085048\\hpc05_day17_220324_085048_ol_scoring.csv\n",
      "Loading file: Y:/laura_berkowitz/app_ps1_ephys/data\\hpc05\\hpc05_day20_220328_094147\\hpc05_day20_220328_094147_ol_scoring.csv\n",
      "Loading file: Y:/laura_berkowitz/app_ps1_ephys/data\\hpc06\\hpc06_day14_220320_102335\\hpc06_day14_220320_102335_ol_scoring.csv\n",
      "Loading file: Y:/laura_berkowitz/app_ps1_ephys/data\\hpc06\\hpc06_day17_220324_085048\\hpc06_day17_220324_085048_ol_scoring.csv\n",
      "Loading file: Y:/laura_berkowitz/app_ps1_ephys/data\\hpc06\\hpc06_day23_220401_102719\\hpc06_day23_220401_102719_ol_scoring.csv\n",
      "Loading file: Y:/laura_berkowitz/app_ps1_ephys/data\\hpc06\\hpc06_day27_220405_103420\\hpc06_day27_220405_103420_ol_scoring.csv\n",
      "Loading file: Y:/laura_berkowitz/app_ps1_ephys/data\\hpc07\\hpc07_day41_220614_100545\\hpc07_day41_220614_100545_ol_scoring.csv\n",
      "Loading file: Y:/laura_berkowitz/app_ps1_ephys/data\\hpc07\\hpc07_day50_220712_094047\\hpc07_day50_220712_094047_ol_scoring.csv\n",
      "Loading file: Y:/laura_berkowitz/app_ps1_ephys/data\\hpc09\\hpc09_day19_220524_093304\\hpc09_day19_220524_093304_ol_scoring.csv\n",
      "Loading file: Y:/laura_berkowitz/app_ps1_ephys/data\\hpc09\\hpc09_day23_220528_1105\\hpc09_day23_220528_1105_ol_scoring.csv\n",
      "Loading file: Y:/laura_berkowitz/app_ps1_ephys/data\\hpc09\\hpc09_day29_220606_085359\\hpc09_day29_220606_085359_ol_scoring.csv\n",
      "Loading file: Y:/laura_berkowitz/app_ps1_ephys/data\\hpc09\\hpc09_day33_220610_101437\\hpc09_day33_220610_101437_ol_scoring.csv\n",
      "Loading file: Y:/laura_berkowitz/app_ps1_ephys/data\\hpc09\\hpc09_day35_220614_100545\\hpc09_day35_220614_100545_ol_scoring.csv\n",
      "Loading file: Y:/laura_berkowitz/app_ps1_ephys/data\\hpc09\\hpc09_day39_220622_085917\\hpc09_day39_220622_085917_ol_scoring.csv\n",
      "Loading file: Y:/laura_berkowitz/app_ps1_ephys/data\\hpc09\\hpc09_day44_220712_094047\\hpc09_day44_220712_094047_ol_scoring.csv\n",
      "Loading file: Y:/laura_berkowitz/app_ps1_ephys/data\\hpc10\\hpc10_day38_220610_101437\\hpc10_day38_220610_101437_ol_scoring.csv\n",
      "Loading file: Y:/laura_berkowitz/app_ps1_ephys/data\\hpc10\\hpc10_day40_220614_100545\\hpc10_day40_220614_100545_ol_scoring.csv\n",
      "Loading file: Y:/laura_berkowitz/app_ps1_ephys/data\\hpc10\\hpc10_day44_220622_085917\\hpc10_day44_220622_085917_ol_scoring.csv\n",
      "Loading file: Y:/laura_berkowitz/app_ps1_ephys/data\\hpc10\\hpc10_day49_220712_094047\\hpc10_day49_220712_094047_ol_scoring.csv\n"
     ]
    }
   ],
   "source": [
    "# load metadata\n",
    "metadata = pd.read_csv(meta_path)\n",
    "metadata.head()\n",
    "\n",
    "# load compiled data\n",
    "df = bc.load_data(data_dir)\n",
    "df.dropna(inplace=True) # drop rows with NaN\n",
    "df.reset_index(drop = True,inplace=True) # reset index"
   ]
  },
  {
   "cell_type": "markdown",
   "metadata": {},
   "source": [
    "### Add metadata to compiled df and save"
   ]
  },
  {
   "cell_type": "code",
   "execution_count": 7,
   "metadata": {},
   "outputs": [],
   "source": [
    "df = bc.add_metadata(df, metadata)\n",
    "df.to_csv(save_path+'object_location_scoring_compiled.csv', index=False)\n",
    "\n"
   ]
  },
  {
   "cell_type": "code",
   "execution_count": 17,
   "metadata": {},
   "outputs": [],
   "source": [
    "# obj2_new = df.pivot_table(\n",
    "#     obj2,\n",
    "#     index=[\n",
    "#         \"vidname\",\n",
    "#         \"visit\",\n",
    "#         \"genotype\",\n",
    "#         \"condition\",\n",
    "#         \"exposure\",\n",
    "#         \"basename\",\n",
    "#         \"subid\",\n",
    "#         \"objects\",\n",
    "#         \"paradigm\",\n",
    "#     ],\n",
    "#     columns=[\"action\"],\n",
    "# ).reset_index()\n",
    "# obj2_new[\"object1_explore\"] = (\n",
    "#     obj2_new.frame.object1_stop - obj2_new.frame.object1_start\n",
    "# ) / 60\n",
    "# obj2_new[\"object2_explore\"] = (\n",
    "#     obj2_new.frame.object2_stop - obj2_new.frame.object2_start\n",
    "# ) / 60\n",
    "# obj2_new\n",
    "\n",
    "# moved_obj = []\n",
    "# treatment = []\n",
    "# for basename in obj2_new.basename:\n",
    "#     metadata_temp = metadata[metadata.basename == basename]\n",
    "#     moved_obj.append(metadata_temp.moved_object.values[0])\n",
    "#     treatment.append(metadata_temp.treatment.values[0])\n",
    "# obj2_new[\"moved_object\"] = moved_obj\n",
    "# obj2_new[\"treatment\"] = treatment\n",
    "    \n",
    "# obj2_new.to_csv(r\"C:\\Users\\schafferlab\\Desktop\\object_location_frames_.csv\")\n"
   ]
  },
  {
   "cell_type": "code",
   "execution_count": null,
   "metadata": {},
   "outputs": [],
   "source": [
    "df1 = pd.read_csv(r\"C:\\Users\\schafferlab\\Desktop\\object_location_frames_.csv\")\n",
    "df2 = pd.read_csv(r\"C:\\Users\\schafferlab\\Desktop\\object_location_frames.csv\")"
   ]
  }
 ],
 "metadata": {
  "kernelspec": {
   "display_name": "Python 3.8.13 ('appps1_ripples')",
   "language": "python",
   "name": "python3"
  },
  "language_info": {
   "codemirror_mode": {
    "name": "ipython",
    "version": 3
   },
   "file_extension": ".py",
   "mimetype": "text/x-python",
   "name": "python",
   "nbconvert_exporter": "python",
   "pygments_lexer": "ipython3",
   "version": "3.8.13"
  },
  "orig_nbformat": 4,
  "vscode": {
   "interpreter": {
    "hash": "746e2b782feb5ee03894575c7dba785d9618028fa12a34b3b0641b28c2f22e6b"
   }
  }
 },
 "nbformat": 4,
 "nbformat_minor": 2
}
